{
 "cells": [
  {
   "cell_type": "code",
   "execution_count": 20,
   "metadata": {},
   "outputs": [],
   "source": [
    "#!/usr/bin/env python3\n",
    "import requests\n",
    "import socket\n",
    "\n",
    "def check_localhost():\n",
    "  localhost = socket.gethostbyname('localhost')\n",
    "\n",
    "  if localhost == '127.0.0.1':\n",
    "    return True\n",
    "\n",
    "  else:\n",
    "    return False\n",
    "\n",
    "\n",
    "def check_connectivity():\n",
    "  request = requests.get(\"http://www.google.com\")\n",
    "\n",
    "  if request.status_code  == 200:\n",
    "    return True\n",
    "\n",
    "  else:\n",
    "    return False\n"
   ]
  },
  {
   "cell_type": "code",
   "execution_count": 1,
   "metadata": {
    "scrolled": true
   },
   "outputs": [
    {
     "ename": "ModuleNotFoundError",
     "evalue": "No module named 'network'",
     "output_type": "error",
     "traceback": [
      "\u001b[1;31m---------------------------------------------------------------------------\u001b[0m",
      "\u001b[1;31mModuleNotFoundError\u001b[0m                       Traceback (most recent call last)",
      "\u001b[1;32m<ipython-input-1-1499afaa471c>\u001b[0m in \u001b[0;36m<module>\u001b[1;34m\u001b[0m\n\u001b[0;32m      2\u001b[0m \u001b[1;32mimport\u001b[0m \u001b[0mshutil\u001b[0m\u001b[1;33m\u001b[0m\u001b[1;33m\u001b[0m\u001b[0m\n\u001b[0;32m      3\u001b[0m \u001b[1;32mimport\u001b[0m \u001b[0mpsutil\u001b[0m\u001b[1;33m\u001b[0m\u001b[1;33m\u001b[0m\u001b[0m\n\u001b[1;32m----> 4\u001b[1;33m \u001b[1;32mfrom\u001b[0m \u001b[0mnetwork\u001b[0m \u001b[1;32mimport\u001b[0m \u001b[1;33m*\u001b[0m\u001b[1;33m\u001b[0m\u001b[1;33m\u001b[0m\u001b[0m\n\u001b[0m\u001b[0;32m      5\u001b[0m \u001b[1;33m\u001b[0m\u001b[0m\n\u001b[0;32m      6\u001b[0m \u001b[1;32mdef\u001b[0m \u001b[0mcheck_disk_usage\u001b[0m\u001b[1;33m(\u001b[0m\u001b[0mdisk\u001b[0m\u001b[1;33m)\u001b[0m\u001b[1;33m:\u001b[0m\u001b[1;33m\u001b[0m\u001b[1;33m\u001b[0m\u001b[0m\n",
      "\u001b[1;31mModuleNotFoundError\u001b[0m: No module named 'network'"
     ]
    }
   ],
   "source": [
    "#!/usr/bin/env python3\n",
    "import shutil\n",
    "import psutil\n",
    "from network import *\n",
    "\n",
    "def check_disk_usage(disk):\n",
    "    \"\"\"Verifies that there's enough free space on disk\"\"\"\n",
    "    du = shutil.disk_usage(disk)\n",
    "    free = du.free / du.total * 100\n",
    "    return free > 20\n",
    "def check_cpu_usage():\n",
    "    \"\"\"Verifies that there's enough unused CPU\"\"\"\n",
    "    usage = psutil.cpu_percent(1)\n",
    "    if usage < 75:\n",
    "      return True\n",
    "    else:\n",
    "      return False\n",
    "# If there's not enough disk, or not enough CPU, print an error\n",
    "if not check_disk_usage('/') or not check_cpu_usage():\n",
    "    print(\"ERROR!\")\n",
    "\n",
    "elif check_localhost() and check_connectivity():\n",
    "    print(\"Everything ok\")\n",
    "\n",
    "else:\n",
    "    print(\"Network check failed\")\n"
   ]
  },
  {
   "cell_type": "code",
   "execution_count": null,
   "metadata": {},
   "outputs": [],
   "source": []
  },
  {
   "cell_type": "code",
   "execution_count": null,
   "metadata": {},
   "outputs": [],
   "source": []
  },
  {
   "cell_type": "code",
   "execution_count": null,
   "metadata": {},
   "outputs": [],
   "source": []
  }
 ],
 "metadata": {
  "kernelspec": {
   "display_name": "Python 3",
   "language": "python",
   "name": "python3"
  },
  "language_info": {
   "codemirror_mode": {
    "name": "ipython",
    "version": 3
   },
   "file_extension": ".py",
   "mimetype": "text/x-python",
   "name": "python",
   "nbconvert_exporter": "python",
   "pygments_lexer": "ipython3",
   "version": "3.7.3"
  }
 },
 "nbformat": 4,
 "nbformat_minor": 2
}
